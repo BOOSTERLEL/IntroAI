{
  "nbformat": 4,
  "nbformat_minor": 0,
  "metadata": {
    "colab": {
      "provenance": []
    },
    "kernelspec": {
      "name": "python3",
      "display_name": "Python 3"
    },
    "language_info": {
      "name": "python"
    }
  },
  "cells": [
    {
      "cell_type": "markdown",
      "source": [
        "## AT1 Example I: Search problem (Due Week 6)\n",
        "The following is the library used for the experiment."
      ],
      "metadata": {
        "id": "un3BnRurT0lL"
      }
    },
    {
      "cell_type": "code",
      "execution_count": 1,
      "metadata": {
        "id": "CvrESWxC4xc0"
      },
      "outputs": [],
      "source": [
        "import random\n",
        "import sys\n",
        "import time\n",
        "\n",
        "import numpy as np\n",
        "import pandas as pd\n",
        "import matplotlib.pyplot as plt"
      ]
    },
    {
      "cell_type": "markdown",
      "source": [
        "Define three classes to store information about scheduling policies, machines and artifacts."
      ],
      "metadata": {
        "id": "D-x2ekslUHUb"
      }
    },
    {
      "cell_type": "code",
      "source": [
        "class Schedule:\n",
        "    def __init__(self, num_machines):\n",
        "        # The machine arrangement of the current scheduling policy\n",
        "        self.machines = [Machine(i) for i in range(num_machines)]\n",
        "        # The total delay of the current scheduling policy\n",
        "        self.delay = 0\n",
        "\n",
        "\n",
        "class Machine:\n",
        "    def __init__(self, i):\n",
        "        # Machine id\n",
        "        self.id = i\n",
        "        # The working schedule of the current machine\n",
        "        self.tasks = []\n",
        "\n",
        "\n",
        "class Object:\n",
        "    def __init__(self, e, p, d):\n",
        "        # The time when the workpiece reaches the machine\n",
        "        self.entryTime = e\n",
        "        # The time when the workpiece needs to be machined\n",
        "        self.processingTime = p\n",
        "        # The time when the workpiece is required to be delivered\n",
        "        self.deliveryTime = d"
      ],
      "metadata": {
        "id": "TQAxzKVhSUkj"
      },
      "execution_count": 2,
      "outputs": []
    },
    {
      "cell_type": "markdown",
      "source": [
        "Initializes a sequential sequence."
      ],
      "metadata": {
        "id": "aD592WOTURWz"
      }
    },
    {
      "cell_type": "code",
      "source": [
        "def initSchedule(jobs, numMachines):\n",
        "    n = len(jobs)\n",
        "    # Create a scheduling policy object\n",
        "    bestSchedule = Schedule(numMachines)\n",
        "\n",
        "    # Assign tasks to machines to a sequence structure\n",
        "    for i in range(n):\n",
        "        machineId = i % numMachines\n",
        "        bestSchedule.machines[machineId].tasks.append(i)\n",
        "\n",
        "    # recalculate schedule delay\n",
        "    bestSchedule.delay = calcTotalDelay(bestSchedule, jobs)\n",
        "    return bestSchedule"
      ],
      "metadata": {
        "id": "pnbAH3gNSaQa"
      },
      "execution_count": 3,
      "outputs": []
    },
    {
      "cell_type": "markdown",
      "source": [
        "Find an adjacency state `newSchedule` by using the following function."
      ],
      "metadata": {
        "id": "QjlvGy9_UkgD"
      }
    },
    {
      "cell_type": "code",
      "source": [
        "def neighbor(schedule, jobs):\n",
        "    # Create a scheduling policy object\n",
        "    newSchedule = Schedule(len(schedule.machines))\n",
        "\n",
        "    # Deep copy of each machine's task assignment to prevent contamination of current scheduling\n",
        "    for i, machine in enumerate(schedule.machines):\n",
        "        newSchedule.machines[i].tasks = machine.tasks[:]\n",
        "\n",
        "    # Swap any task between any two machines\n",
        "    machine1, machine2 = random.sample(newSchedule.machines, 2)\n",
        "    if machine1.tasks and machine2.tasks:\n",
        "        task1, task2 = random.choice(machine1.tasks), random.choice(machine2.tasks)\n",
        "        machine1.tasks[machine1.tasks.index(task1)], machine2.tasks[machine2.tasks.index(task2)] = task2, task1\n",
        "\n",
        "    # Recalculate schedule delay\n",
        "    newSchedule.delay = calcTotalDelay(newSchedule, jobs)\n",
        "    return newSchedule"
      ],
      "metadata": {
        "id": "srnva8c5SiJa"
      },
      "execution_count": 4,
      "outputs": []
    },
    {
      "cell_type": "markdown",
      "source": [
        "The following method is used to print the scheduling policy."
      ],
      "metadata": {
        "id": "aytI1sUxZJf4"
      }
    },
    {
      "cell_type": "code",
      "source": [
        "def printSchedule(schedule, jobs):\n",
        "    # calculate the total delay of the certain schedule\n",
        "    totalDelay = calcTotalDelay(schedule, jobs)\n",
        "\n",
        "    # Iterate through each machine in the schedule\n",
        "    for machine in schedule.machines:\n",
        "        print(f\"Machine {machine.id}:\")\n",
        "\n",
        "        # Iterate through each task assigned to the machine\n",
        "        for i in range(len(machine.tasks)):\n",
        "            job = jobs[machine.tasks[i]]\n",
        "            # Print details of each task on the current machine\n",
        "            print(f\" No.{i + 1} : {job.entryTime} {job.processingTime} {job.deliveryTime}\")\n",
        "\n",
        "    # Print the total delay calculated earlier\n",
        "    print(f\"Total delay: {totalDelay}\")"
      ],
      "metadata": {
        "id": "tQBcgTTooZp_"
      },
      "execution_count": 5,
      "outputs": []
    },
    {
      "cell_type": "markdown",
      "source": [
        "Calculates the latency of a particular scheduling policy."
      ],
      "metadata": {
        "id": "NnFt730JUt-L"
      }
    },
    {
      "cell_type": "code",
      "source": [
        "def calcTotalDelay(schedule, jobs):\n",
        "    totalDelay = 0\n",
        "\n",
        "    # Iterate through each machine in the schedule\n",
        "    for machine in schedule.machines:\n",
        "        now = 0\n",
        "\n",
        "        # Iterate through each task assigned to the machine\n",
        "        for taskId in machine.tasks:\n",
        "            job = jobs[taskId]\n",
        "\n",
        "            # Process the job and update the current time\n",
        "            now = max(now, job.entryTime)\n",
        "            now += job.processingTime\n",
        "\n",
        "            # Calculate the delay if the job's completion time exceeds its delivery time\n",
        "            if now > job.deliveryTime:\n",
        "                totalDelay += now - job.deliveryTime\n",
        "\n",
        "    return totalDelay"
      ],
      "metadata": {
        "id": "rOiB2CIeScVC"
      },
      "execution_count": 6,
      "outputs": []
    },
    {
      "cell_type": "markdown",
      "source": [
        "`hillClimbing(init, neighbor, jobs, data, times=500, iteration=1000)`is the core algorithm and implements the hill climbing algorithm."
      ],
      "metadata": {
        "id": "Qzbp6ZGkn9N-"
      }
    },
    {
      "cell_type": "code",
      "source": [
        "def hillClimbing(init, neighbor, jobs, data, times=500, iteration=1000):\n",
        "    # Initialize the current state\n",
        "    current = init\n",
        "    # Initialize a counter to track the number of consecutive unsuccessful searches\n",
        "    count = 0\n",
        "\n",
        "    while iteration:\n",
        "        # Generate a neighboring state\n",
        "        nextChoice = neighbor(current, jobs)\n",
        "        if not nextChoice:\n",
        "            break\n",
        "\n",
        "        # If the counter exceeds the `times` threshold, break the loop\n",
        "        if count > times:\n",
        "            break\n",
        "\n",
        "        # If the next choice has a lower total delay, update the current state and append the delay to the data list\n",
        "        if calcTotalDelay(nextChoice, jobs) < calcTotalDelay(current, jobs):\n",
        "            current = nextChoice\n",
        "            data.append(current.delay)\n",
        "\n",
        "            # Reset the counter for successful updates\n",
        "            count = 0\n",
        "        else:\n",
        "            # Increment the counter for unsuccessful updates\n",
        "            count += 1\n",
        "        iteration -= 1\n",
        "\n",
        "    return current"
      ],
      "metadata": {
        "id": "0cAkJhIsjQWo"
      },
      "execution_count": 7,
      "outputs": []
    },
    {
      "cell_type": "markdown",
      "source": [
        "`simulatedAnnealing(init, neighbor, schedule, jobs)` is the core algorithm and implements the simulated annealing algorithm."
      ],
      "metadata": {
        "id": "RhUKLMQQUy9y"
      }
    },
    {
      "cell_type": "code",
      "source": [
        "def simulatedAnnealing(init, neighbor, schedule, jobs, data):\n",
        "    # Initialize the current state\n",
        "    current = init\n",
        "\n",
        "    for t in range(sys.maxsize):\n",
        "        # Get the temperature for the current iteration\n",
        "        T = schedule()(t)\n",
        "\n",
        "        # Stop the algorithm if T drops to a certain temperature\n",
        "        if T == 0:\n",
        "            break\n",
        "\n",
        "        # Generate a neighboring state\n",
        "        nextChoice = neighbor(current, jobs)\n",
        "        if not nextChoice:\n",
        "            break\n",
        "\n",
        "        deltaE = nextChoice.delay - current.delay\n",
        "        # If the total delay of the new state is less than the total delay of the current state, select the new state.\n",
        "        # Otherwise, the original state will be retained with a certain probability, which is temperature-dependent\n",
        "        if deltaE < 0 or probability(np.exp(-deltaE / T)):\n",
        "            current = nextChoice\n",
        "            data.append(current.delay)\n",
        "\n",
        "    return current"
      ],
      "metadata": {
        "id": "C_eXsff6Solz"
      },
      "execution_count": 8,
      "outputs": []
    },
    {
      "cell_type": "code",
      "source": [
        "def probability(p):\n",
        "    # If the randomly generated number is less than or equal to p, return True, indicating that the event occurred;\n",
        "    # Otherwise, False is returned, indicating that the event does not occur.\n",
        "    return random.uniform(0.0, 1.0) < p"
      ],
      "metadata": {
        "id": "BJhLrhAKSkAL"
      },
      "execution_count": 9,
      "outputs": []
    },
    {
      "cell_type": "markdown",
      "source": [
        "The cooling formula:\n",
        "$f(T)=\\left\\{\\begin{matrix}k*exp^{(-lam*T)}, T<\\#limit\\\\0,otherwise\\end{matrix}\\right.$"
      ],
      "metadata": {
        "id": "AmY7ySJvaoR4"
      }
    },
    {
      "cell_type": "code",
      "source": [
        "def expSchedule(k=20, lam=0.005, limit=10000):\n",
        "    \"\"\"\n",
        "    Exponential decay temperature scheduler\n",
        "    Parameters:\n",
        "        k (float, optional): initial temperature.\n",
        "        lam (float, optional): attenuation rate.\n",
        "        limit (int, optional): indicates the upper limit of temperature attenuation.\n",
        "    \"\"\"\n",
        "    return lambda t: k * np.exp(-lam * t) if t < limit else 0"
      ],
      "metadata": {
        "id": "2nEnH3MxSqPr"
      },
      "execution_count": 10,
      "outputs": []
    },
    {
      "cell_type": "markdown",
      "source": [
        "Import data from `test.csv` and consolidate it into a list"
      ],
      "metadata": {
        "id": "OceOahR2U20a"
      }
    },
    {
      "cell_type": "code",
      "source": [
        "# The number of machines\n",
        "numMachines = 3\n",
        "# The list of workpieces to be processed\n",
        "jobs = []\n",
        "# The iteration data of the hill climbing algorithm\n",
        "HCData = []\n",
        "# The iteration data of the simulated annealing algorithm\n",
        "SAData = []\n",
        "\n",
        "# Read the data from the CSV file\n",
        "df = pd.read_csv(\"data.csv\")\n",
        "for x, y, z in zip(df[\"entryTime\"], df[\"processingTime\"], df[\"deliveryTime\"]):\n",
        "    jobs.append(Object(x, y, z))\n",
        "\n",
        "# Print the first few rows of the DataFrame\n",
        "df.head()"
      ],
      "metadata": {
        "id": "BNZJoS9FSvDi",
        "colab": {
          "base_uri": "https://localhost:8080/",
          "height": 206
        },
        "outputId": "c0ae3f7a-ad21-4ce7-a328-5ef6b0cd62ef"
      },
      "execution_count": 12,
      "outputs": [
        {
          "output_type": "execute_result",
          "data": {
            "text/plain": [
              "   entryTime  processingTime  deliveryTime\n",
              "0          0              15            21\n",
              "1          0              19            25\n",
              "2          0              26            30\n",
              "3          0               9            13\n",
              "4          0              15            24"
            ],
            "text/html": [
              "\n",
              "  <div id=\"df-09b0c063-0717-41fe-891f-021e77307b9c\" class=\"colab-df-container\">\n",
              "    <div>\n",
              "<style scoped>\n",
              "    .dataframe tbody tr th:only-of-type {\n",
              "        vertical-align: middle;\n",
              "    }\n",
              "\n",
              "    .dataframe tbody tr th {\n",
              "        vertical-align: top;\n",
              "    }\n",
              "\n",
              "    .dataframe thead th {\n",
              "        text-align: right;\n",
              "    }\n",
              "</style>\n",
              "<table border=\"1\" class=\"dataframe\">\n",
              "  <thead>\n",
              "    <tr style=\"text-align: right;\">\n",
              "      <th></th>\n",
              "      <th>entryTime</th>\n",
              "      <th>processingTime</th>\n",
              "      <th>deliveryTime</th>\n",
              "    </tr>\n",
              "  </thead>\n",
              "  <tbody>\n",
              "    <tr>\n",
              "      <th>0</th>\n",
              "      <td>0</td>\n",
              "      <td>15</td>\n",
              "      <td>21</td>\n",
              "    </tr>\n",
              "    <tr>\n",
              "      <th>1</th>\n",
              "      <td>0</td>\n",
              "      <td>19</td>\n",
              "      <td>25</td>\n",
              "    </tr>\n",
              "    <tr>\n",
              "      <th>2</th>\n",
              "      <td>0</td>\n",
              "      <td>26</td>\n",
              "      <td>30</td>\n",
              "    </tr>\n",
              "    <tr>\n",
              "      <th>3</th>\n",
              "      <td>0</td>\n",
              "      <td>9</td>\n",
              "      <td>13</td>\n",
              "    </tr>\n",
              "    <tr>\n",
              "      <th>4</th>\n",
              "      <td>0</td>\n",
              "      <td>15</td>\n",
              "      <td>24</td>\n",
              "    </tr>\n",
              "  </tbody>\n",
              "</table>\n",
              "</div>\n",
              "    <div class=\"colab-df-buttons\">\n",
              "\n",
              "  <div class=\"colab-df-container\">\n",
              "    <button class=\"colab-df-convert\" onclick=\"convertToInteractive('df-09b0c063-0717-41fe-891f-021e77307b9c')\"\n",
              "            title=\"Convert this dataframe to an interactive table.\"\n",
              "            style=\"display:none;\">\n",
              "\n",
              "  <svg xmlns=\"http://www.w3.org/2000/svg\" height=\"24px\" viewBox=\"0 -960 960 960\">\n",
              "    <path d=\"M120-120v-720h720v720H120Zm60-500h600v-160H180v160Zm220 220h160v-160H400v160Zm0 220h160v-160H400v160ZM180-400h160v-160H180v160Zm440 0h160v-160H620v160ZM180-180h160v-160H180v160Zm440 0h160v-160H620v160Z\"/>\n",
              "  </svg>\n",
              "    </button>\n",
              "\n",
              "  <style>\n",
              "    .colab-df-container {\n",
              "      display:flex;\n",
              "      gap: 12px;\n",
              "    }\n",
              "\n",
              "    .colab-df-convert {\n",
              "      background-color: #E8F0FE;\n",
              "      border: none;\n",
              "      border-radius: 50%;\n",
              "      cursor: pointer;\n",
              "      display: none;\n",
              "      fill: #1967D2;\n",
              "      height: 32px;\n",
              "      padding: 0 0 0 0;\n",
              "      width: 32px;\n",
              "    }\n",
              "\n",
              "    .colab-df-convert:hover {\n",
              "      background-color: #E2EBFA;\n",
              "      box-shadow: 0px 1px 2px rgba(60, 64, 67, 0.3), 0px 1px 3px 1px rgba(60, 64, 67, 0.15);\n",
              "      fill: #174EA6;\n",
              "    }\n",
              "\n",
              "    .colab-df-buttons div {\n",
              "      margin-bottom: 4px;\n",
              "    }\n",
              "\n",
              "    [theme=dark] .colab-df-convert {\n",
              "      background-color: #3B4455;\n",
              "      fill: #D2E3FC;\n",
              "    }\n",
              "\n",
              "    [theme=dark] .colab-df-convert:hover {\n",
              "      background-color: #434B5C;\n",
              "      box-shadow: 0px 1px 3px 1px rgba(0, 0, 0, 0.15);\n",
              "      filter: drop-shadow(0px 1px 2px rgba(0, 0, 0, 0.3));\n",
              "      fill: #FFFFFF;\n",
              "    }\n",
              "  </style>\n",
              "\n",
              "    <script>\n",
              "      const buttonEl =\n",
              "        document.querySelector('#df-09b0c063-0717-41fe-891f-021e77307b9c button.colab-df-convert');\n",
              "      buttonEl.style.display =\n",
              "        google.colab.kernel.accessAllowed ? 'block' : 'none';\n",
              "\n",
              "      async function convertToInteractive(key) {\n",
              "        const element = document.querySelector('#df-09b0c063-0717-41fe-891f-021e77307b9c');\n",
              "        const dataTable =\n",
              "          await google.colab.kernel.invokeFunction('convertToInteractive',\n",
              "                                                    [key], {});\n",
              "        if (!dataTable) return;\n",
              "\n",
              "        const docLinkHtml = 'Like what you see? Visit the ' +\n",
              "          '<a target=\"_blank\" href=https://colab.research.google.com/notebooks/data_table.ipynb>data table notebook</a>'\n",
              "          + ' to learn more about interactive tables.';\n",
              "        element.innerHTML = '';\n",
              "        dataTable['output_type'] = 'display_data';\n",
              "        await google.colab.output.renderOutput(dataTable, element);\n",
              "        const docLink = document.createElement('div');\n",
              "        docLink.innerHTML = docLinkHtml;\n",
              "        element.appendChild(docLink);\n",
              "      }\n",
              "    </script>\n",
              "  </div>\n",
              "\n",
              "\n",
              "<div id=\"df-afe239c4-0ed6-4fde-8456-a94c61b439d4\">\n",
              "  <button class=\"colab-df-quickchart\" onclick=\"quickchart('df-afe239c4-0ed6-4fde-8456-a94c61b439d4')\"\n",
              "            title=\"Suggest charts\"\n",
              "            style=\"display:none;\">\n",
              "\n",
              "<svg xmlns=\"http://www.w3.org/2000/svg\" height=\"24px\"viewBox=\"0 0 24 24\"\n",
              "     width=\"24px\">\n",
              "    <g>\n",
              "        <path d=\"M19 3H5c-1.1 0-2 .9-2 2v14c0 1.1.9 2 2 2h14c1.1 0 2-.9 2-2V5c0-1.1-.9-2-2-2zM9 17H7v-7h2v7zm4 0h-2V7h2v10zm4 0h-2v-4h2v4z\"/>\n",
              "    </g>\n",
              "</svg>\n",
              "  </button>\n",
              "\n",
              "<style>\n",
              "  .colab-df-quickchart {\n",
              "      --bg-color: #E8F0FE;\n",
              "      --fill-color: #1967D2;\n",
              "      --hover-bg-color: #E2EBFA;\n",
              "      --hover-fill-color: #174EA6;\n",
              "      --disabled-fill-color: #AAA;\n",
              "      --disabled-bg-color: #DDD;\n",
              "  }\n",
              "\n",
              "  [theme=dark] .colab-df-quickchart {\n",
              "      --bg-color: #3B4455;\n",
              "      --fill-color: #D2E3FC;\n",
              "      --hover-bg-color: #434B5C;\n",
              "      --hover-fill-color: #FFFFFF;\n",
              "      --disabled-bg-color: #3B4455;\n",
              "      --disabled-fill-color: #666;\n",
              "  }\n",
              "\n",
              "  .colab-df-quickchart {\n",
              "    background-color: var(--bg-color);\n",
              "    border: none;\n",
              "    border-radius: 50%;\n",
              "    cursor: pointer;\n",
              "    display: none;\n",
              "    fill: var(--fill-color);\n",
              "    height: 32px;\n",
              "    padding: 0;\n",
              "    width: 32px;\n",
              "  }\n",
              "\n",
              "  .colab-df-quickchart:hover {\n",
              "    background-color: var(--hover-bg-color);\n",
              "    box-shadow: 0 1px 2px rgba(60, 64, 67, 0.3), 0 1px 3px 1px rgba(60, 64, 67, 0.15);\n",
              "    fill: var(--button-hover-fill-color);\n",
              "  }\n",
              "\n",
              "  .colab-df-quickchart-complete:disabled,\n",
              "  .colab-df-quickchart-complete:disabled:hover {\n",
              "    background-color: var(--disabled-bg-color);\n",
              "    fill: var(--disabled-fill-color);\n",
              "    box-shadow: none;\n",
              "  }\n",
              "\n",
              "  .colab-df-spinner {\n",
              "    border: 2px solid var(--fill-color);\n",
              "    border-color: transparent;\n",
              "    border-bottom-color: var(--fill-color);\n",
              "    animation:\n",
              "      spin 1s steps(1) infinite;\n",
              "  }\n",
              "\n",
              "  @keyframes spin {\n",
              "    0% {\n",
              "      border-color: transparent;\n",
              "      border-bottom-color: var(--fill-color);\n",
              "      border-left-color: var(--fill-color);\n",
              "    }\n",
              "    20% {\n",
              "      border-color: transparent;\n",
              "      border-left-color: var(--fill-color);\n",
              "      border-top-color: var(--fill-color);\n",
              "    }\n",
              "    30% {\n",
              "      border-color: transparent;\n",
              "      border-left-color: var(--fill-color);\n",
              "      border-top-color: var(--fill-color);\n",
              "      border-right-color: var(--fill-color);\n",
              "    }\n",
              "    40% {\n",
              "      border-color: transparent;\n",
              "      border-right-color: var(--fill-color);\n",
              "      border-top-color: var(--fill-color);\n",
              "    }\n",
              "    60% {\n",
              "      border-color: transparent;\n",
              "      border-right-color: var(--fill-color);\n",
              "    }\n",
              "    80% {\n",
              "      border-color: transparent;\n",
              "      border-right-color: var(--fill-color);\n",
              "      border-bottom-color: var(--fill-color);\n",
              "    }\n",
              "    90% {\n",
              "      border-color: transparent;\n",
              "      border-bottom-color: var(--fill-color);\n",
              "    }\n",
              "  }\n",
              "</style>\n",
              "\n",
              "  <script>\n",
              "    async function quickchart(key) {\n",
              "      const quickchartButtonEl =\n",
              "        document.querySelector('#' + key + ' button');\n",
              "      quickchartButtonEl.disabled = true;  // To prevent multiple clicks.\n",
              "      quickchartButtonEl.classList.add('colab-df-spinner');\n",
              "      try {\n",
              "        const charts = await google.colab.kernel.invokeFunction(\n",
              "            'suggestCharts', [key], {});\n",
              "      } catch (error) {\n",
              "        console.error('Error during call to suggestCharts:', error);\n",
              "      }\n",
              "      quickchartButtonEl.classList.remove('colab-df-spinner');\n",
              "      quickchartButtonEl.classList.add('colab-df-quickchart-complete');\n",
              "    }\n",
              "    (() => {\n",
              "      let quickchartButtonEl =\n",
              "        document.querySelector('#df-afe239c4-0ed6-4fde-8456-a94c61b439d4 button');\n",
              "      quickchartButtonEl.style.display =\n",
              "        google.colab.kernel.accessAllowed ? 'block' : 'none';\n",
              "    })();\n",
              "  </script>\n",
              "</div>\n",
              "\n",
              "    </div>\n",
              "  </div>\n"
            ],
            "application/vnd.google.colaboratory.intrinsic+json": {
              "type": "dataframe",
              "variable_name": "df",
              "summary": "{\n  \"name\": \"df\",\n  \"rows\": 44,\n  \"fields\": [\n    {\n      \"column\": \"entryTime\",\n      \"properties\": {\n        \"dtype\": \"number\",\n        \"std\": 16,\n        \"min\": 0,\n        \"max\": 48,\n        \"num_unique_values\": 19,\n        \"samples\": [\n          0,\n          12,\n          25\n        ],\n        \"semantic_type\": \"\",\n        \"description\": \"\"\n      }\n    },\n    {\n      \"column\": \"processingTime\",\n      \"properties\": {\n        \"dtype\": \"number\",\n        \"std\": 6,\n        \"min\": 6,\n        \"max\": 41,\n        \"num_unique_values\": 21,\n        \"samples\": [\n          15,\n          10,\n          13\n        ],\n        \"semantic_type\": \"\",\n        \"description\": \"\"\n      }\n    },\n    {\n      \"column\": \"deliveryTime\",\n      \"properties\": {\n        \"dtype\": \"number\",\n        \"std\": 21,\n        \"min\": 13,\n        \"max\": 89,\n        \"num_unique_values\": 32,\n        \"samples\": [\n          87,\n          33,\n          61\n        ],\n        \"semantic_type\": \"\",\n        \"description\": \"\"\n      }\n    }\n  ]\n}"
            }
          },
          "metadata": {},
          "execution_count": 12
        }
      ]
    },
    {
      "cell_type": "markdown",
      "source": [
        "Here the hill climbing algorithm is called and the run time is calculated"
      ],
      "metadata": {
        "id": "Xor-Wlu8U-3K"
      }
    },
    {
      "cell_type": "code",
      "source": [
        "startTime = time.time()\n",
        "# Initialize an initial scheduling scheme\n",
        "init = initSchedule(jobs, numMachines)\n",
        "# Hill climbing algorithm was used to optimize the initial scheduling scheme\n",
        "HCSchedule = hillClimbing(init, neighbor, jobs, HCData)\n",
        "endTime = time.time()\n",
        "\n",
        "# Print optimized scheduling scheme\n",
        "printSchedule(HCSchedule, jobs)\n",
        "print(f\"time = {int((endTime - startTime) * 1000)} ms\")"
      ],
      "metadata": {
        "id": "ewM6l8jsS0RS",
        "colab": {
          "base_uri": "https://localhost:8080/"
        },
        "outputId": "8d02357c-074e-491a-f61e-3c301f5deac7"
      },
      "execution_count": null,
      "outputs": [
        {
          "output_type": "stream",
          "name": "stdout",
          "text": [
            "Machine 0:\n",
            " No.1 : 0 8 17\n",
            " No.2 : 0 11 14\n",
            " No.3 : 14 14 30\n",
            " No.4 : 6 12 19\n",
            " No.5 : 35 10 55\n",
            " No.6 : 35 8 63\n",
            " No.7 : 42 7 75\n",
            " No.8 : 24 12 65\n",
            " No.9 : 9 16 27\n",
            " No.10 : 19 17 44\n",
            " No.11 : 44 18 87\n",
            " No.12 : 17 18 40\n",
            " No.13 : 0 21 35\n",
            " No.14 : 34 23 58\n",
            " No.15 : 0 26 30\n",
            "Machine 1:\n",
            " No.1 : 0 12 18\n",
            " No.2 : 0 15 24\n",
            " No.3 : 0 9 13\n",
            " No.4 : 11 12 25\n",
            " No.5 : 48 7 55\n",
            " No.6 : 45 11 65\n",
            " No.7 : 42 9 75\n",
            " No.8 : 34 16 61\n",
            " No.9 : 0 15 21\n",
            " No.10 : 17 17 38\n",
            " No.11 : 15 17 48\n",
            " No.12 : 12 19 33\n",
            " No.13 : 7 18 28\n",
            " No.14 : 0 23 67\n",
            " No.15 : 0 31 41\n",
            "Machine 2:\n",
            " No.1 : 0 19 25\n",
            " No.2 : 17 11 28\n",
            " No.3 : 15 15 40\n",
            " No.4 : 15 13 28\n",
            " No.5 : 47 12 76\n",
            " No.6 : 34 6 75\n",
            " No.7 : 0 14 25\n",
            " No.8 : 25 17 42\n",
            " No.9 : 25 17 57\n",
            " No.10 : 7 17 27\n",
            " No.11 : 12 17 31\n",
            " No.12 : 14 20 38\n",
            " No.13 : 42 24 73\n",
            " No.14 : 47 41 89\n",
            "Total delay: 2654\n",
            "time = 99 ms\n"
          ]
        }
      ]
    },
    {
      "cell_type": "markdown",
      "source": [
        "Here the simulated annealing algorithm is called and the run time is calculated"
      ],
      "metadata": {
        "id": "MWw1BuRe6x3V"
      }
    },
    {
      "cell_type": "code",
      "source": [
        "startTime = time.time()\n",
        "# Initialize an initial scheduling scheme\n",
        "init = initSchedule(jobs, numMachines)\n",
        "# Simulated annealing algorithm was used to optimize the initial scheduling scheme\n",
        "SAschedule = simulatedAnnealing(init, neighbor, expSchedule, jobs, SAData)\n",
        "endTime = time.time()\n",
        "\n",
        "# Print optimized scheduling scheme\n",
        "printSchedule(SAschedule, jobs)\n",
        "print(f\"time = {int((endTime - startTime) * 1000)} ms\")"
      ],
      "metadata": {
        "id": "xnZ2I2eAS1ga",
        "colab": {
          "base_uri": "https://localhost:8080/"
        },
        "outputId": "d3efaaae-e5aa-4563-df80-d75736586414"
      },
      "execution_count": null,
      "outputs": [
        {
          "output_type": "stream",
          "name": "stdout",
          "text": [
            "Machine 0:\n",
            " No.1 : 0 12 18\n",
            " No.2 : 11 12 25\n",
            " No.3 : 14 14 30\n",
            " No.4 : 0 15 21\n",
            " No.5 : 34 6 75\n",
            " No.6 : 35 8 63\n",
            " No.7 : 42 7 75\n",
            " No.8 : 34 16 61\n",
            " No.9 : 15 17 48\n",
            " No.10 : 25 17 42\n",
            " No.11 : 7 17 27\n",
            " No.12 : 0 19 25\n",
            " No.13 : 12 19 33\n",
            " No.14 : 0 23 67\n",
            " No.15 : 0 26 30\n",
            "Machine 1:\n",
            " No.1 : 0 9 13\n",
            " No.2 : 6 12 19\n",
            " No.3 : 15 13 28\n",
            " No.4 : 0 14 25\n",
            " No.5 : 48 7 55\n",
            " No.6 : 45 11 65\n",
            " No.7 : 42 9 75\n",
            " No.8 : 47 12 76\n",
            " No.9 : 9 16 27\n",
            " No.10 : 17 17 38\n",
            " No.11 : 19 17 44\n",
            " No.12 : 7 18 28\n",
            " No.13 : 0 21 35\n",
            " No.14 : 34 23 58\n",
            " No.15 : 47 41 89\n",
            "Machine 2:\n",
            " No.1 : 0 11 14\n",
            " No.2 : 0 8 17\n",
            " No.3 : 17 11 28\n",
            " No.4 : 15 15 40\n",
            " No.5 : 35 10 55\n",
            " No.6 : 24 12 65\n",
            " No.7 : 0 15 24\n",
            " No.8 : 12 17 31\n",
            " No.9 : 25 17 57\n",
            " No.10 : 17 18 40\n",
            " No.11 : 44 18 87\n",
            " No.12 : 14 20 38\n",
            " No.13 : 42 24 73\n",
            " No.14 : 0 31 41\n",
            "Total delay: 2594\n",
            "time = 492 ms\n"
          ]
        }
      ]
    },
    {
      "cell_type": "markdown",
      "source": [
        "Print a line plot using matplotlib.pyplot for subsequent analysis."
      ],
      "metadata": {
        "id": "m3DeLn0U6zvd"
      }
    },
    {
      "cell_type": "code",
      "source": [
        "plt.title(\"Multi-machine scheduling problem\")\n",
        "plt.xlabel(\"Iterations\")\n",
        "plt.ylabel(\"Delay\")\n",
        "\n",
        "plt.plot(range(len(HCData)), HCData)\n",
        "plt.plot(range(len(SAData)), SAData)\n",
        "plt.legend(labels=['Hill climbing', 'Simulated annealing'])\n",
        "\n",
        "plt.show()"
      ],
      "metadata": {
        "id": "c_KKcnEKS_Cr",
        "colab": {
          "base_uri": "https://localhost:8080/",
          "height": 472
        },
        "outputId": "c81b3133-6626-4113-f2f3-6b7f345218f9"
      },
      "execution_count": null,
      "outputs": [
        {
          "output_type": "display_data",
          "data": {
            "text/plain": [
              "<Figure size 640x480 with 1 Axes>"
            ],
            "image/png": "[encoded data removed]"
          },
          "metadata": {}
        }
      ]
    },
    {
      "cell_type": "markdown",
      "source": [
        "Adjust the parameters and analyze the performance under different parameters"
      ],
      "metadata": {
        "id": "SFZb53YXTFl7"
      }
    },
    {
      "cell_type": "code",
      "source": [
        "i = 0\n",
        "plt.tight_layout()\n",
        "\n",
        "# The k value to be tested\n",
        "kValues = [1, 20, 40]\n",
        "# The lam value to be tested\n",
        "lamValues = [0.005, 0.05, 0.5, 5]\n",
        "\n",
        "for k in kValues:\n",
        "    fig = plt.figure()\n",
        "    for lam in lamValues:\n",
        "        i += 1\n",
        "        data = []\n",
        "\n",
        "        # Initialize an initial scheduling scheme\n",
        "        init = initSchedule(jobs, numMachines)\n",
        "        # Simulated annealing algorithm was used to optimize the initial scheduling scheme\n",
        "        bestSchedule = simulatedAnnealing(init, neighbor, expSchedule, jobs, data)\n",
        "        print(f\"k={k} lam={lam} delay={bestSchedule.delay}\")\n",
        "\n",
        "        # Draws a subgraph of the specified k and lam values\n",
        "        fig.add_subplot(len(kValues), len(lamValues), i)\n",
        "        plt.title(f\"k={k} lam={lam}\")\n",
        "        plt.plot(range(len(data)), data)\n",
        "    plt.show()"
      ],
      "metadata": {
        "id": "ybTnFH97TEE7",
        "colab": {
          "base_uri": "https://localhost:8080/",
          "height": 765
        },
        "outputId": "c2d44a1c-8c58-483d-8abc-35f19b3a519d"
      },
      "execution_count": 14,
      "outputs": [
        {
          "output_type": "stream",
          "name": "stdout",
          "text": [
            "k=1 lam=0.005 delay=2588\n",
            "k=1 lam=0.05 delay=2592\n",
            "k=1 lam=0.5 delay=2591\n",
            "k=1 lam=5 delay=2597\n"
          ]
        },
        {
          "output_type": "display_data",
          "data": {
            "text/plain": [
              "<Figure size 640x480 with 0 Axes>"
            ]
          },
          "metadata": {}
        },
        {
          "output_type": "display_data",
          "data": {
            "text/plain": [
              "<Figure size 640x480 with 4 Axes>"
            ],
            "image/png": "[encoded data removed]"
          },
          "metadata": {}
        },
        {
          "output_type": "stream",
          "name": "stdout",
          "text": [
            "k=20 lam=0.005 delay=2625\n",
            "k=20 lam=0.05 delay=2590\n",
            "k=20 lam=0.5 delay=2606\n",
            "k=20 lam=5 delay=2588\n"
          ]
        },
        {
          "output_type": "display_data",
          "data": {
            "text/plain": [
              "<Figure size 640x480 with 4 Axes>"
            ],
            "image/png": "[encoded data removed]"
          },
          "metadata": {}
        },
        {
          "output_type": "stream",
          "name": "stdout",
          "text": [
            "k=40 lam=0.005 delay=2625\n",
            "k=40 lam=0.05 delay=2600\n",
            "k=40 lam=0.5 delay=2601\n",
            "k=40 lam=5 delay=2594\n"
          ]
        },
        {
          "output_type": "display_data",
          "data": {
            "text/plain": [
              "<Figure size 640x480 with 4 Axes>"
            ],
            "image/png": "[encoded data removed]"
          },
          "metadata": {}
        }
      ]
    },
    {
      "cell_type": "code",
      "source": [],
      "metadata": {
        "id": "-_Vsj8-nYq0f"
      },
      "execution_count": null,
      "outputs": []
    }
  ]
}